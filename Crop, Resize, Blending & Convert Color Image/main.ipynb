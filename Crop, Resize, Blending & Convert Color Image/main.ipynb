{
 "cells": [
  {
   "cell_type": "code",
   "execution_count": 1,
   "metadata": {},
   "outputs": [],
   "source": [
    "import cv2"
   ]
  },
  {
   "cell_type": "code",
   "execution_count": 2,
   "metadata": {},
   "outputs": [
    {
     "data": {
      "text/plain": [
       "(647, 431, 3)"
      ]
     },
     "execution_count": 2,
     "metadata": {},
     "output_type": "execute_result"
    }
   ],
   "source": [
    "img = cv2.imread('../footage/kim-sejeong.jpg')\n",
    "img.shape"
   ]
  },
  {
   "attachments": {},
   "cell_type": "markdown",
   "metadata": {},
   "source": [
    "# Image Crop "
   ]
  },
  {
   "cell_type": "code",
   "execution_count": 3,
   "metadata": {},
   "outputs": [],
   "source": [
    "img_crop = img[0:300 , 0:300]\n",
    "cv2.imshow('croped-image', img_crop)\n",
    "cv2.imshow('orginal-image', img)\n",
    "cv2.waitKey(0)\n",
    "cv2.destroyAllWindows()"
   ]
  },
  {
   "cell_type": "code",
   "execution_count": 4,
   "metadata": {},
   "outputs": [],
   "source": [
    "h,w,c = img.shape\n",
    "\n",
    "x_min = int(input(f\"Input x_min [0-{w}\"))\n",
    "x_max = int(input(f\"Input x_max [{x_min}-{w}\"))\n",
    "y_min = int(input(f\"Input y_min [0-{h}\"))\n",
    "y_max = int(input(f\"Input y_max [{y_min}-{h}\"))\n",
    "\n",
    "img_crop2 = img[y_min:y_max , x_min:x_max]\n",
    "\n",
    "cv2.imshow(\"img-crop2\", img_crop2)\n",
    "cv2.imshow(\"img-ori\", img)\n",
    "cv2.waitKey(0)\n",
    "cv2.destroyAllWindows()"
   ]
  },
  {
   "cell_type": "code",
   "execution_count": 5,
   "metadata": {},
   "outputs": [],
   "source": [
    "y_min, y_max, x_min, x_max = 0,0,0,0\n",
    "\n",
    "def image_crop(event,x,y,flags,param):\n",
    "    global x_min,y_min,x_max,y_max\n",
    "\n",
    "    if event == cv2.EVENT_LBUTTONDOWN:\n",
    "        x_min,y_min,x_max,y_max = x,y,x,y\n",
    "\n",
    "    elif event == cv2.EVENT_MOUSEMOVE:\n",
    "        x_max,y_max = x,y\n",
    "\n",
    "    elif event == cv2.EVENT_LBUTTONUP:\n",
    "        croped_img = img[y_min:y_max , x_min:x_max]\n",
    "        cv2.imshow('croped_img', croped_img)\n",
    "        cv2.imwrite('cropped_img.jpg', croped_img)\n",
    "        print(\"croped image saved successfully!\")\n",
    "\n",
    "cv2.namedWindow(\"Original_img\")\n",
    "cv2.setMouseCallback(\"Original_img\", image_crop)\n",
    "\n",
    "while True:\n",
    "    cv2.imshow(\"Original_img\", img)\n",
    "    if cv2.waitKey(1)==ord('q'):\n",
    "        break\n",
    "cv2.destroyAllWindows()\n"
   ]
  },
  {
   "attachments": {},
   "cell_type": "markdown",
   "metadata": {},
   "source": [
    "# Image Resize"
   ]
  },
  {
   "cell_type": "code",
   "execution_count": 6,
   "metadata": {},
   "outputs": [],
   "source": [
    "ratio = float(input(\"Input image ratio [ 0 - 1,0 ]: \"))\n",
    "\n",
    "img_resize = cv2.resize(img, (int(w*ratio), int(h*ratio)))\n",
    "\n",
    "cv2.imshow(\"ori-img\", img)\n",
    "cv2.imshow(\"resized-img\", img_resize)\n",
    "cv2.waitKey(0)\n",
    "cv2.destroyAllWindows()"
   ]
  },
  {
   "cell_type": "code",
   "execution_count": 7,
   "metadata": {},
   "outputs": [],
   "source": [
    "img_resize2 = cv2.resize(img, (0,0),fx=0.7,fy=0.7)\n",
    "\n",
    "cv2.imshow(\"ori-img\", img)\n",
    "cv2.imshow(\"resized-img\", img_resize2)\n",
    "cv2.waitKey(0)\n",
    "cv2.destroyAllWindows()\n"
   ]
  },
  {
   "attachments": {},
   "cell_type": "markdown",
   "metadata": {},
   "source": [
    "# Larging & Shrinking Image\n",
    "\n",
    "dalam cv2 kita bisa menggunakan metode interpolation dan yang kita akan bahasa disini ada 4 function interpolation yaitu:\n",
    "\n",
    "## Untuk Shrinking\n",
    "- cv2.INTER_NEAREST : This is using a nearest-neighbor interpolation to shrink an image.\n",
    "- cv2.INTER_AREA : This is used when we need need to shrink an image.\n",
    "\n",
    "## Untuk LARGING\n",
    "- cv2.INTER_LINEAR : This is primarily used when larging is required (default).\n",
    "- cv2.INTER_CUBIC : This is slow for larging image, but more efficient (higer quality)."
   ]
  },
  {
   "cell_type": "code",
   "execution_count": 8,
   "metadata": {},
   "outputs": [],
   "source": [
    "\n",
    "img_resize = cv2.resize(img, (0,0), fx=2.5, fy=2.5) # LINEAR\n",
    "img_resize_INTER_NEAREST = cv2.resize(img, (0,0), fx=0.5, fy=0.5, interpolation=cv2.INTER_NEAREST) \n",
    "\n",
    "# show image \n",
    "cv2.imshow('Original Image', img)\n",
    "cv2.imshow('INTER_LINEAR Resized Image', img_resize)\n",
    "cv2.imshow('INTER_NEAREST Resized Image', img_resize_INTER_NEAREST)\n",
    "cv2.waitKey(0)\n",
    "cv2.destroyAllWindows()"
   ]
  },
  {
   "attachments": {
    "image.png": {
     "image/png": "[encoded data removed]"
    }
   },
   "cell_type": "markdown",
   "metadata": {},
   "source": [
    "# Image Blending\n",
    "\n",
    "![image.png](attachment:image.png)\n",
    "\n",
    "Rumus ini sering digunakan dalam image blending untuk menggabungkan dua gambar secara halus.\n"
   ]
  },
  {
   "attachments": {},
   "cell_type": "markdown",
   "metadata": {},
   "source": [
    "- f0(x) dan f1(x) adalah 2 gambar yang akan digabungkan.\n",
    "- g(x) adalah hasil interpolasi gabungan dari 2 gambar\n",
    "- α adalah parameter blending yang menentukan seberapa besar kontribusi setiap gambar dalam hasil akhirnya. Nilai α berkisar antara 0 dan 1.\n",
    "- jika α=0 maka haslinya adalah gambar f0(x)\n",
    "- jika α=1 maka haslinya adalah gambar f1(x)\n",
    "- Jika α berada di antara 0 dan 1, gambar hasil blending akan menjadi kombinasi kedua gambar dengan bobot yang sebanding dengan nilai α."
   ]
  },
  {
   "cell_type": "code",
   "execution_count": 9,
   "metadata": {},
   "outputs": [
    {
     "data": {
      "text/plain": [
       "(1920, 1367, 3)"
      ]
     },
     "execution_count": 9,
     "metadata": {},
     "output_type": "execute_result"
    }
   ],
   "source": [
    "img2 = cv2.imread('../footage/lavender.jpeg')\n",
    "img2.shape"
   ]
  },
  {
   "cell_type": "code",
   "execution_count": 14,
   "metadata": {},
   "outputs": [],
   "source": [
    "img2 = cv2.resize(img2, (431,647))\n",
    "cv2.imshow(\"img2\", img2)\n",
    "cv2.waitKey(0)\n",
    "cv2.destroyAllWindows()"
   ]
  },
  {
   "cell_type": "code",
   "execution_count": 11,
   "metadata": {},
   "outputs": [
    {
     "data": {
      "text/plain": [
       "(647, 431, 3)"
      ]
     },
     "execution_count": 11,
     "metadata": {},
     "output_type": "execute_result"
    }
   ],
   "source": [
    "img.shape"
   ]
  },
  {
   "cell_type": "code",
   "execution_count": 12,
   "metadata": {},
   "outputs": [
    {
     "data": {
      "text/plain": [
       "(647, 431, 3)"
      ]
     },
     "execution_count": 12,
     "metadata": {},
     "output_type": "execute_result"
    }
   ],
   "source": [
    "img2.shape"
   ]
  },
  {
   "cell_type": "code",
   "execution_count": 16,
   "metadata": {},
   "outputs": [],
   "source": [
    "alpha = float(input(\"Input the alpha [0 - 1.0]: \"))\n",
    "\n",
    "beta = (1- alpha)\n",
    "blending_img = cv2.addWeighted(img,alpha,img2, beta,0.0)\n",
    "\n",
    "cv2.imshow(\"blending_img\", blending_img)\n",
    "cv2.waitKey(0)\n",
    "cv2.destroyAllWindows()"
   ]
  },
  {
   "attachments": {},
   "cell_type": "markdown",
   "metadata": {},
   "source": [
    "- ALPHA : define melalui input\n",
    "- BETA  : hasil 1 dikurang ALPHA\n",
    "- GAMMA : default nya adalah 0.0"
   ]
  },
  {
   "attachments": {},
   "cell_type": "markdown",
   "metadata": {},
   "source": [
    "# Gray Scale"
   ]
  },
  {
   "cell_type": "code",
   "execution_count": 18,
   "metadata": {},
   "outputs": [],
   "source": [
    "img_gray = cv2.cvtColor(img, cv2.COLOR_BGR2GRAY)\n",
    "\n",
    "cv2.imshow('gray-img', img_gray)\n",
    "cv2.waitKey(0)\n",
    "cv2.destroyAllWindows()"
   ]
  },
  {
   "attachments": {},
   "cell_type": "markdown",
   "metadata": {},
   "source": [
    "# Opacity"
   ]
  },
  {
   "cell_type": "code",
   "execution_count": 23,
   "metadata": {},
   "outputs": [],
   "source": [
    "img_opacity = cv2.cvtColor(img, cv2.COLOR_BGR2BGRA)\n",
    "\n",
    "cv2.imshow('bgra-img', img_opacity)\n",
    "cv2.waitKey(0)\n",
    "cv2.destroyAllWindows()"
   ]
  },
  {
   "cell_type": "code",
   "execution_count": 25,
   "metadata": {},
   "outputs": [],
   "source": [
    "img_opacity[:,:,3] = 127"
   ]
  },
  {
   "cell_type": "code",
   "execution_count": 26,
   "metadata": {},
   "outputs": [
    {
     "data": {
      "text/plain": [
       "array([ 55,  58,  63, 127], dtype=uint8)"
      ]
     },
     "execution_count": 26,
     "metadata": {},
     "output_type": "execute_result"
    }
   ],
   "source": [
    "img_opacity[0,0]"
   ]
  },
  {
   "cell_type": "code",
   "execution_count": 27,
   "metadata": {},
   "outputs": [
    {
     "data": {
      "text/plain": [
       "True"
      ]
     },
     "execution_count": 27,
     "metadata": {},
     "output_type": "execute_result"
    }
   ],
   "source": [
    "cv2.imwrite('img_opacity-adj.png', img_opacity)"
   ]
  }
 ],
 "metadata": {
  "kernelspec": {
   "display_name": "CV",
   "language": "python",
   "name": "python3"
  },
  "language_info": {
   "codemirror_mode": {
    "name": "ipython",
    "version": 3
   },
   "file_extension": ".py",
   "mimetype": "text/x-python",
   "name": "python",
   "nbconvert_exporter": "python",
   "pygments_lexer": "ipython3",
   "version": "3.11.9"
  },
  "orig_nbformat": 4,
  "vscode": {
   "interpreter": {
    "hash": "0553d4ce217247116af3d8bd9f72185f3b0a33ff55f09110a8f4dadfab291d48"
   }
  }
 },
 "nbformat": 4,
 "nbformat_minor": 2
}
