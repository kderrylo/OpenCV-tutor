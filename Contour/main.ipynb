{
 "cells": [
  {
   "cell_type": "code",
   "execution_count": 1,
   "metadata": {},
   "outputs": [],
   "source": [
    "import cv2\n",
    "import numpy as np"
   ]
  },
  {
   "cell_type": "code",
   "execution_count": 2,
   "metadata": {},
   "outputs": [],
   "source": [
    "background = np.zeros((400,400, 3)).astype(np.uint8)\n",
    "\n",
    "cv2.line(background, \n",
    "    (150,150),\n",
    "    (150,250),\n",
    "    (200,1,100),\n",
    "    5,\n",
    "    cv2.FILLED\n",
    ")\n",
    "\n",
    "cv2.line(background, \n",
    "    (100,350),\n",
    "    (200,350),\n",
    "    (1,0,100),\n",
    "    10,\n",
    "    cv2.LINE_8\n",
    ")\n",
    "\n",
    "cv2.line(background, \n",
    "    (30,300),\n",
    "    (100,180),\n",
    "    (255,1,1),\n",
    "    5,\n",
    "    cv2.LINE_4\n",
    ")\n",
    "\n",
    "cv2.line(background, \n",
    "    (200,350),\n",
    "    (150,50),\n",
    "    (0,255,0),\n",
    "    8,\n",
    "    cv2.LINE_AA\n",
    ")\n",
    "\n",
    "\n",
    "\n",
    "cv2.imshow(\"background\", background)\n",
    "cv2.waitKey(0)\n",
    "cv2.destroyAllWindows()"
   ]
  },
  {
   "cell_type": "code",
   "execution_count": 3,
   "metadata": {},
   "outputs": [],
   "source": [
    "cv2.rectangle(background,\n",
    "    (50, 200),\n",
    "    (200, 250),\n",
    "    (0,1,250),\n",
    "    \n",
    "\n",
    ")\n",
    "\n",
    "cv2.imshow(\"backgorund\", background)\n",
    "cv2.waitKey(0)\n",
    "cv2.destroyAllWindows()"
   ]
  },
  {
   "cell_type": "code",
   "execution_count": 4,
   "metadata": {},
   "outputs": [],
   "source": [
    "cv2.circle(background,\n",
    "    (100,100),\n",
    "    50,\n",
    "    (255,0,0),\n",
    "    5,\n",
    "    cv2.LINE_AA  \n",
    ")\n",
    "\n",
    "cv2.imshow(\"backgorund\", background)\n",
    "cv2.waitKey(0)\n",
    "cv2.destroyAllWindows()"
   ]
  },
  {
   "attachments": {},
   "cell_type": "markdown",
   "metadata": {},
   "source": [
    "# METHOD EXTERNAL"
   ]
  },
  {
   "cell_type": "code",
   "execution_count": 21,
   "metadata": {},
   "outputs": [],
   "source": [
    "img = cv2.imread('../footage/hierarchy.png')\n",
    "\n",
    "img = cv2.cvtColor(img, cv2.COLOR_BGR2GRAY)\n",
    "\n",
    "ret,thresh = cv2.threshold(img, 127, 255, cv2.THRESH_BINARY)\n",
    "\n",
    "contours, hierarchy = cv2.findContours(thresh, cv2.RETR_EXTERNAL, cv2.CHAIN_APPROX_SIMPLE)\n"
   ]
  },
  {
   "cell_type": "code",
   "execution_count": 6,
   "metadata": {},
   "outputs": [
    {
     "data": {
      "text/plain": [
       "array([[[ 1, -1, -1, -1],\n",
       "        [ 2,  0, -1, -1],\n",
       "        [-1,  1, -1, -1]]], dtype=int32)"
      ]
     },
     "execution_count": 6,
     "metadata": {},
     "output_type": "execute_result"
    }
   ],
   "source": [
    "hierarchy"
   ]
  },
  {
   "cell_type": "code",
   "execution_count": 25,
   "metadata": {},
   "outputs": [],
   "source": [
    "for cnt in contours:\n",
    "    cv2.drawContours(img, cnt, -1, (255,100,0), 15)"
   ]
  },
  {
   "cell_type": "code",
   "execution_count": 26,
   "metadata": {},
   "outputs": [],
   "source": [
    "cv2.imshow(\"Drawing Contour - Method External\", img)\n",
    "cv2.waitKey(0)\n",
    "cv2.destroyAllWindows()"
   ]
  },
  {
   "attachments": {},
   "cell_type": "markdown",
   "metadata": {},
   "source": [
    "# METHOD TREE"
   ]
  },
  {
   "cell_type": "code",
   "execution_count": 27,
   "metadata": {},
   "outputs": [],
   "source": [
    "contours, hierarchy = cv2.findContours(thresh, cv2.RETR_TREE, cv2.CHAIN_APPROX_SIMPLE)"
   ]
  },
  {
   "cell_type": "code",
   "execution_count": 28,
   "metadata": {},
   "outputs": [
    {
     "data": {
      "text/plain": [
       "array([[[ 7, -1,  1, -1],\n",
       "        [-1, -1,  2,  0],\n",
       "        [-1, -1,  3,  1],\n",
       "        [-1, -1,  4,  2],\n",
       "        [-1, -1,  5,  3],\n",
       "        [ 6, -1, -1,  4],\n",
       "        [-1,  5, -1,  4],\n",
       "        [ 8,  0, -1, -1],\n",
       "        [-1,  7, -1, -1]]], dtype=int32)"
      ]
     },
     "execution_count": 28,
     "metadata": {},
     "output_type": "execute_result"
    }
   ],
   "source": [
    "hierarchy"
   ]
  },
  {
   "cell_type": "code",
   "execution_count": 29,
   "metadata": {},
   "outputs": [],
   "source": [
    "for cnt in contours:\n",
    "    cv2.drawContours(img, cnt, -1, (255,100,0), 15)"
   ]
  },
  {
   "cell_type": "code",
   "execution_count": 31,
   "metadata": {},
   "outputs": [],
   "source": [
    "cv2.imshow(\"Drawing Contour - Method Tree\", img)\n",
    "cv2.waitKey(0)\n",
    "cv2.destroyAllWindows()"
   ]
  },
  {
   "attachments": {},
   "cell_type": "markdown",
   "metadata": {},
   "source": [
    "# METHOD CCOMP\n",
    "\n",
    "retrieves all of the contours and organizes them into a two-level hierarchy."
   ]
  },
  {
   "cell_type": "code",
   "execution_count": 32,
   "metadata": {},
   "outputs": [],
   "source": [
    "contours, hierarchy = cv2.findContours(thresh, cv2.RETR_CCOMP, cv2.CHAIN_APPROX_SIMPLE)"
   ]
  },
  {
   "cell_type": "code",
   "execution_count": 33,
   "metadata": {},
   "outputs": [
    {
     "data": {
      "text/plain": [
       "array([[[ 3, -1,  1, -1],\n",
       "        [ 2, -1, -1,  0],\n",
       "        [-1,  1, -1,  0],\n",
       "        [ 5,  0,  4, -1],\n",
       "        [-1, -1, -1,  3],\n",
       "        [ 7,  3,  6, -1],\n",
       "        [-1, -1, -1,  5],\n",
       "        [ 8,  5, -1, -1],\n",
       "        [-1,  7, -1, -1]]], dtype=int32)"
      ]
     },
     "execution_count": 33,
     "metadata": {},
     "output_type": "execute_result"
    }
   ],
   "source": [
    "hierarchy"
   ]
  },
  {
   "cell_type": "code",
   "execution_count": 34,
   "metadata": {},
   "outputs": [],
   "source": [
    "for cnt in contours:\n",
    "    cv2.drawContours(img, cnt, -1, (255,100,0), 15)"
   ]
  },
  {
   "cell_type": "code",
   "execution_count": 35,
   "metadata": {},
   "outputs": [],
   "source": [
    "cv2.imshow(\"Drawing Contour - Method Tree\", img)\n",
    "cv2.waitKey(0)\n",
    "cv2.destroyAllWindows()"
   ]
  },
  {
   "attachments": {},
   "cell_type": "markdown",
   "metadata": {},
   "source": [
    "# Task\n",
    "- Read noisy_text.png\n",
    "- Convert to grayscale\n",
    "- Apply thresholding,\n",
    "- Find extream contour\n",
    "- Draw contour"
   ]
  },
  {
   "cell_type": "code",
   "execution_count": 94,
   "metadata": {},
   "outputs": [],
   "source": [
    "noisy_img = cv2.imread('../footage/noisy_text.png')\n",
    "gray_noisy_img = cv2.cvtColor(noisy_img, cv2.COLOR_BGR2GRAY)"
   ]
  },
  {
   "cell_type": "code",
   "execution_count": 95,
   "metadata": {},
   "outputs": [],
   "source": [
    "ret1, gray_noisy_img_th1 = cv2.threshold(gray_noisy_img, 100, 255, cv2.THRESH_BINARY)\n",
    "ret2, gray_noisy_img_th2 = cv2.threshold(gray_noisy_img, 100, 255, cv2.THRESH_BINARY_INV)\n",
    "ret3, gray_noisy_img_th3 = cv2.threshold(gray_noisy_img, 100, 255, cv2.THRESH_TRUNC)\n",
    "ret4, gray_noisy_img_th4 = cv2.threshold(gray_noisy_img, 100, 255, cv2.THRESH_TOZERO)\n",
    "ret5, gray_noisy_img_th5 = cv2.threshold(gray_noisy_img, 100, 255, cv2.THRESH_TOZERO_INV)\n",
    "\n",
    "cv2.imshow(\"binary\", gray_noisy_img_th1)\n",
    "cv2.imshow(\"binary_inv\", gray_noisy_img_th2)\n",
    "cv2.imshow(\"trunc\", gray_noisy_img_th3)\n",
    "cv2.imshow(\"tozero\", gray_noisy_img_th4)\n",
    "cv2.imshow(\"tozero_inv\", gray_noisy_img_th5)\n",
    "\n",
    "cv2.waitKey(0)\n",
    "cv2.destroyAllWindows()"
   ]
  },
  {
   "attachments": {},
   "cell_type": "markdown",
   "metadata": {},
   "source": [
    "hasil binary dan binary_inv paling baik, disini kita gunakan binary saja"
   ]
  },
  {
   "cell_type": "code",
   "execution_count": 96,
   "metadata": {},
   "outputs": [
    {
     "data": {
      "text/plain": [
       "array([[[ 1, -1, -1, -1],\n",
       "        [ 2,  0, -1, -1],\n",
       "        [ 3,  1, -1, -1],\n",
       "        [ 4,  2, -1, -1],\n",
       "        [ 5,  3, -1, -1],\n",
       "        [ 6,  4, -1, -1],\n",
       "        [-1,  5, -1, -1]]], dtype=int32)"
      ]
     },
     "execution_count": 96,
     "metadata": {},
     "output_type": "execute_result"
    }
   ],
   "source": [
    "cont, hier = cv2.findContours(gray_noisy_img_th2, cv2.RETR_EXTERNAL, cv2.CHAIN_APPROX_NONE)\n",
    "hier"
   ]
  },
  {
   "cell_type": "code",
   "execution_count": 97,
   "metadata": {},
   "outputs": [],
   "source": [
    "for cnt in cont:\n",
    "    cv2.drawContours(noisy_img, cnt, -1, (255,0,255), 5)\n",
    "\n",
    "cv2.imshow(\"Contour result\", noisy_img)\n",
    "cv2.waitKey(0)\n",
    "cv2.destroyAllWindows()"
   ]
  },
  {
   "attachments": {},
   "cell_type": "markdown",
   "metadata": {},
   "source": [
    "# Contour Features\n",
    "contour approximate"
   ]
  },
  {
   "cell_type": "code",
   "execution_count": 100,
   "metadata": {},
   "outputs": [
    {
     "name": "stdout",
     "output_type": "stream",
     "text": [
      "LUAS\n",
      "Luas: 12111 pixel\n",
      "Luas: 12104 pixel\n",
      "Luas: 10484 pixel\n",
      "Luas: 16998 pixel\n",
      "Luas: 9304 pixel\n",
      "Luas: 10492 pixel\n",
      "Luas: 7052 pixel\n",
      "\n",
      "==========================\n",
      "\n",
      "KELILING\n",
      "Keliling: 775 pixel\n",
      "Keliling: 776 pixel\n",
      "Keliling: 782 pixel\n",
      "Keliling: 505 pixel\n",
      "Keliling: 723 pixel\n",
      "Keliling: 722 pixel\n",
      "Keliling: 459 pixel\n",
      "\n",
      "==========================\n",
      "\n"
     ]
    }
   ],
   "source": [
    "print(\"LUAS\")\n",
    "for cnt in cont:\n",
    "    area = cv2.contourArea(cnt)\n",
    "    print(\"Luas: %d pixel\" % area)\n",
    "print(\"\\n==========================\\n\")\n",
    "print(\"KELILING\")\n",
    "for cnt in cont:\n",
    "    area = cv2.arcLength(cnt, True)\n",
    "    print(\"Keliling: %d pixel\" % area)\n",
    "print(\"\\n==========================\\n\")"
   ]
  },
  {
   "cell_type": "code",
   "execution_count": 107,
   "metadata": {},
   "outputs": [],
   "source": [
    "img = cv2.imread('../footage/noisy_text.png')\n",
    "\n",
    "gray_img = cv2.cvtColor(img, cv2.COLOR_BGR2GRAY)\n",
    "\n",
    "ret, thresh = cv2.threshold(gray_img, 100,255, cv2.THRESH_BINARY_INV)\n",
    "\n",
    "contours, hierarcy = cv2.findContours(thresh, cv2.RETR_EXTERNAL, cv2.CHAIN_APPROX_NONE)\n",
    "\n",
    "for cnt in contours:\n",
    "    epsilon = 0.001*cv2.arcLength(cnt,True)\n",
    "    approx = cv2.approxPolyDP(cnt, epsilon, True)\n",
    "    cv2.polylines(img,  [approx], True, (0,255,255), 5)\n",
    "\n",
    "cv2.imshow(\"Contour Approximation\", img)\n",
    "cv2.waitKey(0)\n",
    "cv2.destroyAllWindows()"
   ]
  },
  {
   "attachments": {},
   "cell_type": "markdown",
   "metadata": {},
   "source": [
    "# Bounding Rectangle"
   ]
  },
  {
   "cell_type": "code",
   "execution_count": 111,
   "metadata": {},
   "outputs": [],
   "source": [
    "frame = img.copy()\n",
    "for cnt in contours:\n",
    "    x,y,w,h = cv2.boundingRect(cnt)\n",
    "    cv2.rectangle(frame, (x,y), (x+w, y+h), (0,0,255), 3)\n",
    "\n",
    "cv2.imshow(\"Rectangle Contour\", frame)\n",
    "cv2.waitKey(0)\n",
    "cv2.destroyAllWindows()"
   ]
  },
  {
   "cell_type": "code",
   "execution_count": 118,
   "metadata": {},
   "outputs": [],
   "source": [
    "frame = img.copy()\n",
    "for i,cnt in enumerate(contours):\n",
    "    x,y,w,h = cv2.boundingRect(cnt)\n",
    "    roi = frame[y:y+h, x:x+w]\n",
    "    cv2.imshow(\"Contour-%d\" % i,roi)\n",
    "\n",
    "cv2.waitKey(0)\n",
    "cv2.destroyAllWindows()"
   ]
  },
  {
   "attachments": {},
   "cell_type": "markdown",
   "metadata": {},
   "source": [
    "juga bisa disimpat di list dlu\n"
   ]
  },
  {
   "cell_type": "code",
   "execution_count": 123,
   "metadata": {},
   "outputs": [],
   "source": [
    "frame = img.copy()\n",
    "roi = []\n",
    "\n",
    "for i,cnt in enumerate(contours):\n",
    "    x,y,w,h = cv2.boundingRect(cnt)\n",
    "    roi.append(frame[y:y+h , x:x+w])\n",
    "\n",
    "for  i,item in enumerate(roi):\n",
    "    cv2.imshow(\"image roi - %d\" % i,item)\n",
    "cv2.waitKey(0)\n",
    "cv2.destroyAllWindows()"
   ]
  },
  {
   "attachments": {},
   "cell_type": "markdown",
   "metadata": {},
   "source": [
    "# KTP PHOTO DETECTION"
   ]
  },
  {
   "cell_type": "code",
   "execution_count": 134,
   "metadata": {},
   "outputs": [],
   "source": [
    "ktp = cv2.imread('../footage/ktp1.jpg')\n",
    "h_ktp,w_ktp,c = ktp.shape\n",
    "\n",
    "gray_ktp = cv2.cvtColor(ktp, cv2.COLOR_BGR2GRAY)\n",
    "\n",
    "ret , thresh = cv2.threshold(gray_ktp, 127, 255, cv2.THRESH_BINARY)\n",
    "\n",
    "contours, hierarcy = cv2.findContours(thresh, cv2.RETR_CCOMP, cv2.CHAIN_APPROX_NONE)\n",
    "\n",
    "for cnt in contours:\n",
    "    x,y,w,h = cv2.boundingRect(cnt)\n",
    "\n",
    "    aspectRatio = w/h\n",
    "    heightRatio = h/h_ktp\n",
    "\n",
    "    keepAspectRatio = aspectRatio > 0.7 and aspectRatio <0.9\n",
    "    keepHeightRatio = heightRatio >0.4 and heightRatio <0.6\n",
    "\n",
    "    if keepAspectRatio and keepHeightRatio :\n",
    "        roi = ktp[y:y+h , x:x+w]\n",
    "        cv2.rectangle(ktp, (x,y), (x+w, y+h), (255,0,0), 3)\n",
    "\n",
    "        cv2.imshow(\"Binary Threshold\", thresh)\n",
    "        cv2.imshow(\"Cropped\", roi)\n",
    "\n",
    "cv2.imshow(\"Detected Photo\", ktp)\n",
    "cv2.waitKey(0)\n",
    "cv2.destroyAllWindows()"
   ]
  }
 ],
 "metadata": {
  "kernelspec": {
   "display_name": "CV",
   "language": "python",
   "name": "python3"
  },
  "language_info": {
   "codemirror_mode": {
    "name": "ipython",
    "version": 3
   },
   "file_extension": ".py",
   "mimetype": "text/x-python",
   "name": "python",
   "nbconvert_exporter": "python",
   "pygments_lexer": "ipython3",
   "version": "3.11.9"
  },
  "orig_nbformat": 4,
  "vscode": {
   "interpreter": {
    "hash": "0553d4ce217247116af3d8bd9f72185f3b0a33ff55f09110a8f4dadfab291d48"
   }
  }
 },
 "nbformat": 4,
 "nbformat_minor": 2
}
