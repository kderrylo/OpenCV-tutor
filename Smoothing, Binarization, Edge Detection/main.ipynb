{
 "cells": [
  {
   "cell_type": "code",
   "execution_count": 1,
   "metadata": {},
   "outputs": [],
   "source": [
    "import cv2"
   ]
  },
  {
   "cell_type": "code",
   "execution_count": 3,
   "metadata": {},
   "outputs": [],
   "source": [
    "img = cv2.imread('../footage/noisy_mri.jpg')\n",
    "\n",
    "cv2.imshow('img-window', img)\n",
    "cv2.waitKey(0)\n",
    "cv2.destroyAllWindows()"
   ]
  },
  {
   "attachments": {},
   "cell_type": "markdown",
   "metadata": {},
   "source": [
    "# Blur Image"
   ]
  },
  {
   "cell_type": "code",
   "execution_count": 5,
   "metadata": {},
   "outputs": [],
   "source": [
    "blur_img = cv2.blur(img, (50,50), (-1,-1))\n",
    "\n",
    "cv2.imshow('original', img)\n",
    "cv2.imshow('blured', blur_img)\n",
    "cv2.waitKey(0)\n",
    "cv2.destroyAllWindows()"
   ]
  },
  {
   "cell_type": "code",
   "execution_count": 7,
   "metadata": {},
   "outputs": [],
   "source": [
    "blur_gaussian = cv2.GaussianBlur(img, (9,9), 0,0)\n",
    "\n",
    "cv2.imshow('original', img)\n",
    "cv2.imshow('blur-gaussia',blur_gaussian)\n",
    "cv2.waitKey(0)\n",
    "cv2.destroyAllWindows()"
   ]
  },
  {
   "attachments": {},
   "cell_type": "markdown",
   "metadata": {},
   "source": [
    "# Image Binarization"
   ]
  },
  {
   "cell_type": "code",
   "execution_count": 11,
   "metadata": {},
   "outputs": [],
   "source": [
    "max_val = 255\n",
    "default_thresh = 127\n",
    "\n",
    "bgr_img = cv2.cvtColor(img, cv2.COLOR_BGR2GRAY)\n",
    "\n",
    "ret1, thresh1 = cv2.threshold(bgr_img, default_thresh, max_val, cv2.THRESH_BINARY)\n",
    "ret2, thresh2 = cv2.threshold(bgr_img, default_thresh, max_val, cv2.THRESH_BINARY_INV)\n",
    "ret3, thresh3 = cv2.threshold(bgr_img, default_thresh, max_val, cv2.THRESH_TRUNC)\n",
    "ret4, thresh4 = cv2.threshold(bgr_img, default_thresh, max_val, cv2.THRESH_TOZERO)\n",
    "ret5, thresh5 = cv2.threshold(bgr_img, default_thresh, max_val, cv2.THRESH_TOZERO_INV)\n",
    "\n",
    "cv2.imshow(\"binary\", thresh1)\n",
    "cv2.imshow(\"binary inv\", thresh2)\n",
    "cv2.imshow(\"trunc\", thresh3)\n",
    "cv2.imshow(\"tozero\", thresh4)\n",
    "cv2.imshow(\"tozero  inv\", thresh5)\n",
    "\n",
    "cv2.waitKey(0)\n",
    "cv2.destroyAllWindows()"
   ]
  },
  {
   "attachments": {},
   "cell_type": "markdown",
   "metadata": {},
   "source": [
    "setelah diobservasi, ternyata threshold tozero inv paling signifikan untuk reduce noise. "
   ]
  },
  {
   "attachments": {},
   "cell_type": "markdown",
   "metadata": {},
   "source": [
    "namun ada cara yang lebih simple agar tidak harus meng-assign global threshold value nya, yaitu dengan metode Otsu's Threshold"
   ]
  },
  {
   "attachments": {},
   "cell_type": "markdown",
   "metadata": {},
   "source": [
    "# Otsu's Threshold"
   ]
  },
  {
   "cell_type": "code",
   "execution_count": 13,
   "metadata": {},
   "outputs": [
    {
     "name": "stdout",
     "output_type": "stream",
     "text": [
      "135.0 (537, 537)\n",
      "135.0 (537, 537)\n"
     ]
    }
   ],
   "source": [
    "ret7, thresh7 = cv2.threshold(bgr_img, 0, 255, cv2.THRESH_TOZERO_INV + cv2.THRESH_OTSU)\n",
    "print(ret7, thresh7.shape)\n",
    "\n",
    "# compared with gaussian blur\n",
    "blur = cv2.GaussianBlur(bgr_img, (5,5), 0)\n",
    "ret8, thresh8 = cv2.threshold(blur,0,255,cv2.THRESH_TOZERO_INV +cv2.THRESH_OTSU)\n",
    "print(ret7, thresh7.shape)\n",
    "\n",
    "\n",
    "\n",
    "cv2.imshow(\"binary\", thresh1)\n",
    "cv2.imshow(\"tozero inv\", thresh5)\n",
    "cv2.imshow(\"tozero inv + otsu\", thresh7)\n",
    "cv2.imshow(\"gaussianBlur + tozero inv +otsu\", thresh8)\n",
    "\n",
    "cv2.waitKey(0)\n",
    "cv2.destroyAllWindows()"
   ]
  },
  {
   "attachments": {},
   "cell_type": "markdown",
   "metadata": {},
   "source": [
    "dari hasilnya, threshold tozero inv + otsu yang paling baik dalam menghilngakan noise nya"
   ]
  },
  {
   "attachments": {},
   "cell_type": "markdown",
   "metadata": {},
   "source": [
    "# Edge Detection"
   ]
  },
  {
   "cell_type": "code",
   "execution_count": 20,
   "metadata": {},
   "outputs": [],
   "source": [
    "block_img = cv2.imread('../footage/blocks.jpg')\n",
    "\n",
    "block_img_gray = cv2.cvtColor(block_img, cv2.COLOR_BGR2GRAY)\n",
    "\n",
    "edged = cv2.Canny(block_img_gray, 130, 245)\n",
    "\n",
    "cv2.imshow(\"original\", block_img)\n",
    "cv2.imshow(\"Edged img\", edged)\n",
    "\n",
    "cv2.waitKey(0)\n",
    "cv2.destroyAllWindows()"
   ]
  }
 ],
 "metadata": {
  "kernelspec": {
   "display_name": "CV",
   "language": "python",
   "name": "python3"
  },
  "language_info": {
   "codemirror_mode": {
    "name": "ipython",
    "version": 3
   },
   "file_extension": ".py",
   "mimetype": "text/x-python",
   "name": "python",
   "nbconvert_exporter": "python",
   "pygments_lexer": "ipython3",
   "version": "3.11.9 | packaged by Anaconda, Inc. | (main, Apr 19 2024, 16:40:41) [MSC v.1916 64 bit (AMD64)]"
  },
  "orig_nbformat": 4,
  "vscode": {
   "interpreter": {
    "hash": "0553d4ce217247116af3d8bd9f72185f3b0a33ff55f09110a8f4dadfab291d48"
   }
  }
 },
 "nbformat": 4,
 "nbformat_minor": 2
}
